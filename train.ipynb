{
  "cells": [
    {
      "cell_type": "markdown",
      "metadata": {
        "id": "Qhwf0lXuamu8"
      },
      "source": [
        "## Load and prepare the data"
      ]
    },
    {
      "cell_type": "code",
      "execution_count": 4,
      "metadata": {
        "id": "IonP01KjZHhP"
      },
      "outputs": [],
      "source": [
        "import pandas as pd\n",
        "\n",
        "from sklearn.model_selection import train_test_split\n",
        "from sklearn.impute import SimpleImputer\n",
        "from sklearn.preprocessing import LabelEncoder\n",
        "\n",
        "RANDOM_STATE = 42\n",
        "\n",
        "file_path = 'dataset/titanic.csv'\n",
        "df = pd.read_csv(file_path)\n",
        "\n",
        "label_encoder = LabelEncoder()\n",
        "\n",
        "# Preparing the data\n",
        "X = df.drop(['Survived', 'Name', 'Ticket', 'Cabin', 'PassengerId'], axis=1)\n",
        "y = df['Survived']\n",
        "\n",
        "num_imputer = SimpleImputer(strategy='mean')\n",
        "numerical_cols = X.select_dtypes(include=['int64', 'float64']).columns\n",
        "X[numerical_cols] = num_imputer.fit_transform(X[numerical_cols])\n",
        "\n",
        "# Impute categorical columns with the most frequent value (mode)\n",
        "cat_imputer = SimpleImputer(strategy='most_frequent')\n",
        "categorical_cols = X.select_dtypes(include=['object', 'category']).columns\n",
        "X[categorical_cols] = cat_imputer.fit_transform(X[categorical_cols])\n",
        "\n",
        "categorical_cols = ['Sex', 'Embarked']  # Add other categorical columns as needed\n",
        "\n",
        "# Apply label encoder to each column\n",
        "for col in categorical_cols:\n",
        "    X[col] = label_encoder.fit_transform(X[col].astype(str))\n",
        "\n",
        "X_train, X_test, y_train, y_test = train_test_split(X, y, test_size=0.3, random_state=42)\n"
      ]
    },
    {
      "cell_type": "markdown",
      "metadata": {
        "id": "KYqkdUhxb445"
      },
      "source": [
        "## What the models would perform the best in this dataset?"
      ]
    },
    {
      "cell_type": "code",
      "execution_count": 7,
      "metadata": {
        "colab": {
          "base_uri": "https://localhost:8080/"
        },
        "id": "5yefQBl4cl0P",
        "outputId": "8d3aeb82-9634-4d5a-973a-fbfc5276c86b"
      },
      "outputs": [
        {
          "name": "stdout",
          "output_type": "stream",
          "text": [
            "Sorted by Accuracy:\n",
            "                    Model  Accuracy  Precision    Recall  F1-Score\n",
            "0               AdaBoost  1.000000   1.000000  1.000000  1.000000\n",
            "1   HistGradientBoosting  1.000000   1.000000  1.000000  1.000000\n",
            "2           RandomForest  1.000000   1.000000  1.000000  1.000000\n",
            "3     LogisticRegression  1.000000   1.000000  1.000000  1.000000\n",
            "5          MLPClassifier  1.000000   1.000000  1.000000  1.000000\n",
            "7           DecisionTree  1.000000   1.000000  1.000000  1.000000\n",
            "8              ExtraTree  1.000000   1.000000  1.000000  1.000000\n",
            "10               XGBoost  1.000000   1.000000  1.000000  1.000000\n",
            "6                    SVC  0.674603   0.625773  0.674603  0.591479\n",
            "4             KNeighbors  0.658730   0.644415  0.658730  0.649553\n",
            "9        DummyClassifier  0.603175   0.618282  0.603175  0.609444\n",
            "\n",
            "Sorted by Precision:\n",
            "                    Model  Accuracy  Precision    Recall  F1-Score\n",
            "0               AdaBoost  1.000000   1.000000  1.000000  1.000000\n",
            "1   HistGradientBoosting  1.000000   1.000000  1.000000  1.000000\n",
            "2           RandomForest  1.000000   1.000000  1.000000  1.000000\n",
            "3     LogisticRegression  1.000000   1.000000  1.000000  1.000000\n",
            "5          MLPClassifier  1.000000   1.000000  1.000000  1.000000\n",
            "7           DecisionTree  1.000000   1.000000  1.000000  1.000000\n",
            "8              ExtraTree  1.000000   1.000000  1.000000  1.000000\n",
            "10               XGBoost  1.000000   1.000000  1.000000  1.000000\n",
            "4             KNeighbors  0.658730   0.644415  0.658730  0.649553\n",
            "6                    SVC  0.674603   0.625773  0.674603  0.591479\n",
            "9        DummyClassifier  0.603175   0.618282  0.603175  0.609444\n",
            "\n",
            "Sorted by Recall:\n",
            "                    Model  Accuracy  Precision    Recall  F1-Score\n",
            "0               AdaBoost  1.000000   1.000000  1.000000  1.000000\n",
            "1   HistGradientBoosting  1.000000   1.000000  1.000000  1.000000\n",
            "2           RandomForest  1.000000   1.000000  1.000000  1.000000\n",
            "3     LogisticRegression  1.000000   1.000000  1.000000  1.000000\n",
            "5          MLPClassifier  1.000000   1.000000  1.000000  1.000000\n",
            "7           DecisionTree  1.000000   1.000000  1.000000  1.000000\n",
            "8              ExtraTree  1.000000   1.000000  1.000000  1.000000\n",
            "10               XGBoost  1.000000   1.000000  1.000000  1.000000\n",
            "6                    SVC  0.674603   0.625773  0.674603  0.591479\n",
            "4             KNeighbors  0.658730   0.644415  0.658730  0.649553\n",
            "9        DummyClassifier  0.603175   0.618282  0.603175  0.609444\n",
            "\n",
            "Sorted by F1-Score:\n",
            "                    Model  Accuracy  Precision    Recall  F1-Score\n",
            "0               AdaBoost  1.000000   1.000000  1.000000  1.000000\n",
            "1   HistGradientBoosting  1.000000   1.000000  1.000000  1.000000\n",
            "2           RandomForest  1.000000   1.000000  1.000000  1.000000\n",
            "3     LogisticRegression  1.000000   1.000000  1.000000  1.000000\n",
            "5          MLPClassifier  1.000000   1.000000  1.000000  1.000000\n",
            "7           DecisionTree  1.000000   1.000000  1.000000  1.000000\n",
            "8              ExtraTree  1.000000   1.000000  1.000000  1.000000\n",
            "10               XGBoost  1.000000   1.000000  1.000000  1.000000\n",
            "4             KNeighbors  0.658730   0.644415  0.658730  0.649553\n",
            "9        DummyClassifier  0.603175   0.618282  0.603175  0.609444\n",
            "6                    SVC  0.674603   0.625773  0.674603  0.591479\n"
          ]
        }
      ],
      "source": [
        "import warnings\n",
        "warnings.filterwarnings('ignore')\n",
        "\n",
        "from sklearn.metrics import classification_report\n",
        "\n",
        "from sklearn.ensemble import AdaBoostClassifier, HistGradientBoostingClassifier, RandomForestClassifier\n",
        "from sklearn.linear_model import LogisticRegression\n",
        "from sklearn.neighbors import KNeighborsClassifier\n",
        "from sklearn.neural_network import MLPClassifier\n",
        "from sklearn.svm import SVC\n",
        "from sklearn.tree import DecisionTreeClassifier, ExtraTreeClassifier\n",
        "from sklearn.dummy import DummyClassifier\n",
        "\n",
        "import xgboost as xgb\n",
        "\n",
        "# List of models to evaluate\n",
        "models = [\n",
        "    (\"AdaBoost\", AdaBoostClassifier()),\n",
        "    (\"HistGradientBoosting\", HistGradientBoostingClassifier()),\n",
        "    (\"RandomForest\", RandomForestClassifier()),\n",
        "    (\"LogisticRegression\", LogisticRegression(max_iter=1000)),\n",
        "    (\"KNeighbors\", KNeighborsClassifier()),\n",
        "    (\"MLPClassifier\", MLPClassifier(max_iter=1000)),\n",
        "    (\"SVC\", SVC()),\n",
        "    (\"DecisionTree\", DecisionTreeClassifier()),\n",
        "    (\"ExtraTree\", ExtraTreeClassifier()),\n",
        "    (\"DummyClassifier\", DummyClassifier(strategy='stratified')),\n",
        "    (\"XGBoost\", xgb.XGBClassifier(use_label_encoder=False, eval_metric='logloss'))\n",
        "]\n",
        "\n",
        "# DataFrame to store the results\n",
        "results_df = pd.DataFrame(columns=['Model', 'Accuracy', 'Precision', 'Recall', 'F1-Score'])\n",
        "\n",
        "# Evaluating each model\n",
        "for name, model in models:\n",
        "    model.fit(X_train, y_train)\n",
        "    y_pred = model.predict(X_test)\n",
        "    report = classification_report(y_test, y_pred, output_dict=True, zero_division=0)\n",
        "    results_df = results_df.append({\n",
        "        'Model': name,\n",
        "        'Accuracy': report['accuracy'],\n",
        "        'Precision': report['weighted avg']['precision'],\n",
        "        'Recall': report['weighted avg']['recall'],\n",
        "        'F1-Score': report['weighted avg']['f1-score']\n",
        "    }, ignore_index=True)\n",
        "\n",
        "# Sorting by different metrics\n",
        "sorted_by_accuracy = results_df.sort_values('Accuracy', ascending=False)\n",
        "sorted_by_precision = results_df.sort_values('Precision', ascending=False)\n",
        "sorted_by_recall = results_df.sort_values('Recall', ascending=False)\n",
        "sorted_by_f1 = results_df.sort_values('F1-Score', ascending=False)\n",
        "\n",
        "# Displaying the sorted results\n",
        "print(\"Sorted by Accuracy:\\n\", sorted_by_accuracy)\n",
        "print(\"\\nSorted by Precision:\\n\", sorted_by_precision)\n",
        "print(\"\\nSorted by Recall:\\n\", sorted_by_recall)\n",
        "print(\"\\nSorted by F1-Score:\\n\", sorted_by_f1)"
      ]
    },
    {
      "cell_type": "markdown",
      "metadata": {
        "id": "-PIy_0a3doIr"
      },
      "source": [
        "**Overall Best Performers**:\n",
        "\n",
        "-   Almost all the models performs 100%, so we will adjust the models to be as little as possible"
      ]
    },
    {
      "cell_type": "markdown",
      "metadata": {
        "id": "pM8aUZhBeEdq"
      },
      "source": [
        "## Models for train\n",
        "For my training, I chose **XGboost**, **Random Forest**, and the classic, well-known **Logistic Regression**"
      ]
    },
    {
      "cell_type": "markdown",
      "metadata": {
        "id": "ISucivN7ekJX"
      },
      "source": [
        "## **Logistic Regression**"
      ]
    },
    {
      "cell_type": "markdown",
      "metadata": {
        "id": "ZmhifiGReyqj"
      },
      "source": [
        "### Train **LogisticRegression** with different hyperparameters"
      ]
    },
    {
      "cell_type": "markdown",
      "metadata": {
        "id": "wChL_qoNfUiJ"
      },
      "source": [
        "#### What `C` performs better?"
      ]
    },
    {
      "cell_type": "code",
      "execution_count": 8,
      "metadata": {
        "colab": {
          "base_uri": "https://localhost:8080/"
        },
        "id": "jkivq6XId90L",
        "outputId": "3f0717cb-ee53-4cf8-ae47-8ae1db3e4baa"
      },
      "outputs": [
        {
          "name": "stdout",
          "output_type": "stream",
          "text": [
            "Logistic Regression with C=0.001\n",
            "              precision    recall  f1-score   support\n",
            "\n",
            "           0       0.71      0.95      0.81        85\n",
            "           1       0.67      0.20      0.30        41\n",
            "\n",
            "    accuracy                           0.71       126\n",
            "   macro avg       0.69      0.57      0.56       126\n",
            "weighted avg       0.70      0.71      0.65       126\n",
            "\n",
            "Logistic Regression with C=0.01\n",
            "              precision    recall  f1-score   support\n",
            "\n",
            "           0       0.72      0.98      0.83        85\n",
            "           1       0.82      0.22      0.35        41\n",
            "\n",
            "    accuracy                           0.73       126\n",
            "   macro avg       0.77      0.60      0.59       126\n",
            "weighted avg       0.75      0.73      0.67       126\n",
            "\n",
            "Logistic Regression with C=0.1\n",
            "              precision    recall  f1-score   support\n",
            "\n",
            "           0       1.00      1.00      1.00        85\n",
            "           1       1.00      1.00      1.00        41\n",
            "\n",
            "    accuracy                           1.00       126\n",
            "   macro avg       1.00      1.00      1.00       126\n",
            "weighted avg       1.00      1.00      1.00       126\n",
            "\n",
            "Logistic Regression with C=1\n",
            "              precision    recall  f1-score   support\n",
            "\n",
            "           0       1.00      1.00      1.00        85\n",
            "           1       1.00      1.00      1.00        41\n",
            "\n",
            "    accuracy                           1.00       126\n",
            "   macro avg       1.00      1.00      1.00       126\n",
            "weighted avg       1.00      1.00      1.00       126\n",
            "\n",
            "Logistic Regression with C=10\n",
            "              precision    recall  f1-score   support\n",
            "\n",
            "           0       1.00      1.00      1.00        85\n",
            "           1       1.00      1.00      1.00        41\n",
            "\n",
            "    accuracy                           1.00       126\n",
            "   macro avg       1.00      1.00      1.00       126\n",
            "weighted avg       1.00      1.00      1.00       126\n",
            "\n",
            "Logistic Regression with C=100\n",
            "              precision    recall  f1-score   support\n",
            "\n",
            "           0       1.00      1.00      1.00        85\n",
            "           1       1.00      1.00      1.00        41\n",
            "\n",
            "    accuracy                           1.00       126\n",
            "   macro avg       1.00      1.00      1.00       126\n",
            "weighted avg       1.00      1.00      1.00       126\n",
            "\n"
          ]
        }
      ],
      "source": [
        "from sklearn.linear_model import LogisticRegression\n",
        "from sklearn.metrics import classification_report\n",
        "\n",
        "C = [0.001, 0.01, 0.1, 1, 10, 100]\n",
        "\n",
        "for c in C:\n",
        "    log_reg_model = LogisticRegression(C=c, solver='liblinear', max_iter=1000)\n",
        "    log_reg_model.fit(X_train, y_train)\n",
        "    log_reg_predictions = log_reg_model.predict(X_test)\n",
        "\n",
        "    # Evaluate the model\n",
        "    print(f\"Logistic Regression with C={c}\")\n",
        "    print(classification_report(y_test, log_reg_predictions))"
      ]
    },
    {
      "cell_type": "markdown",
      "metadata": {
        "id": "6YqwKccFgKdN"
      },
      "source": [
        "#### What solver performs better?"
      ]
    },
    {
      "cell_type": "code",
      "execution_count": 9,
      "metadata": {
        "colab": {
          "base_uri": "https://localhost:8080/"
        },
        "id": "ss9B9M6qgMFZ",
        "outputId": "aae10b30-fbf3-4324-96b8-127f5919c761"
      },
      "outputs": [
        {
          "name": "stdout",
          "output_type": "stream",
          "text": [
            "Logistic Regression with solver: liblinear\n",
            "              precision    recall  f1-score   support\n",
            "\n",
            "           0       1.00      1.00      1.00        85\n",
            "           1       1.00      1.00      1.00        41\n",
            "\n",
            "    accuracy                           1.00       126\n",
            "   macro avg       1.00      1.00      1.00       126\n",
            "weighted avg       1.00      1.00      1.00       126\n",
            "\n",
            "Logistic Regression with solver: saga\n",
            "              precision    recall  f1-score   support\n",
            "\n",
            "           0       1.00      1.00      1.00        85\n",
            "           1       1.00      1.00      1.00        41\n",
            "\n",
            "    accuracy                           1.00       126\n",
            "   macro avg       1.00      1.00      1.00       126\n",
            "weighted avg       1.00      1.00      1.00       126\n",
            "\n"
          ]
        }
      ],
      "source": [
        "for solver in ['liblinear', 'saga']:\n",
        "    log_reg_model = LogisticRegression(C=0.1, solver='liblinear', max_iter=1000)\n",
        "    log_reg_model.fit(X_train, y_train)\n",
        "    log_reg_predictions = log_reg_model.predict(X_test)\n",
        "\n",
        "    # Evaluate the model\n",
        "    print(f\"Logistic Regression with solver: {solver}\")\n",
        "    print(classification_report(y_test, log_reg_predictions))"
      ]
    },
    {
      "cell_type": "markdown",
      "metadata": {
        "id": "ZgfqI4meg0ED"
      },
      "source": [
        "There seems to be no difference at all 🤷‍♂️"
      ]
    },
    {
      "cell_type": "markdown",
      "metadata": {
        "id": "I6jSn0JChJnf"
      },
      "source": [
        "### Find the best parameters and get the best model with **GridSearchCV**"
      ]
    },
    {
      "cell_type": "code",
      "execution_count": 15,
      "metadata": {
        "colab": {
          "base_uri": "https://localhost:8080/"
        },
        "id": "h7vgJJQkhAiO",
        "outputId": "d372a5bf-a882-4437-99c5-32c7d10749d9"
      },
      "outputs": [
        {
          "name": "stdout",
          "output_type": "stream",
          "text": [
            "Best parameters for Logistic Regression: {'C': 1, 'solver': 'liblinear'}\n",
            "Best score: 1.0\n"
          ]
        }
      ],
      "source": [
        "from sklearn.linear_model import LogisticRegression\n",
        "from sklearn.model_selection import GridSearchCV\n",
        "\n",
        "# Set up the hyperparameter grid\n",
        "log_reg_params = {\n",
        "    'C': [0.001, 0.01, 0.1, 1],\n",
        "    'solver': ['liblinear', 'saga']\n",
        "}\n",
        "\n",
        "# Create the model instance\n",
        "log_reg = LogisticRegression(max_iter=1000)\n",
        "\n",
        "# Perform grid search\n",
        "log_reg_cv = GridSearchCV(log_reg, log_reg_params, cv=5, scoring='f1')\n",
        "log_reg_cv.fit(X_train, y_train)\n",
        "\n",
        "# Best parameters and best score\n",
        "print(\"Best parameters for Logistic Regression:\", log_reg_cv.best_params_)\n",
        "print(\"Best score:\", log_reg_cv.best_score_)"
      ]
    },
    {
      "cell_type": "code",
      "execution_count": 16,
      "metadata": {
        "colab": {
          "base_uri": "https://localhost:8080/",
          "height": 720
        },
        "id": "zRHdyIHHjSlW",
        "outputId": "2a211c60-40b0-42ac-c377-d2c6aa657284"
      },
      "outputs": [
        {
          "name": "stdout",
          "output_type": "stream",
          "text": [
            "              precision    recall  f1-score   support\n",
            "\n",
            "           0       1.00      1.00      1.00        85\n",
            "           1       1.00      1.00      1.00        41\n",
            "\n",
            "    accuracy                           1.00       126\n",
            "   macro avg       1.00      1.00      1.00       126\n",
            "weighted avg       1.00      1.00      1.00       126\n",
            "\n"
          ]
        },
        {
          "data": {
            "image/png": "[encoded data removed]",
            "text/plain": [
              "<Figure size 800x600 with 2 Axes>"
            ]
          },
          "metadata": {},
          "output_type": "display_data"
        }
      ],
      "source": [
        "from sklearn.metrics import confusion_matrix\n",
        "import matplotlib.pyplot as plt\n",
        "import seaborn as sns\n",
        "\n",
        "log_reg_predictions = log_reg_cv.best_estimator_.predict(X_test)\n",
        "\n",
        "print(classification_report(y_test, log_reg_predictions))\n",
        "\n",
        "cm = confusion_matrix(y_test, log_reg_predictions)\n",
        "plt.figure(figsize=(8,6))\n",
        "sns.heatmap(cm, annot=True, fmt='d', cmap='Blues', xticklabels=['Predicted 0', 'Predicted 1'], yticklabels=['Actual 0', 'Actual 1'])\n",
        "plt.ylabel('Actual')\n",
        "plt.xlabel('Predicted')\n",
        "plt.title(f'Confusion Matrix for Logistic Regression')\n",
        "plt.show()"
      ]
    },
    {
      "cell_type": "markdown",
      "metadata": {
        "id": "Dd3cQBfgiFat"
      },
      "source": [
        "### Save the best Logistic Regression model"
      ]
    },
    {
      "cell_type": "code",
      "execution_count": 17,
      "metadata": {
        "colab": {
          "base_uri": "https://localhost:8080/"
        },
        "id": "ULEYb1AiiIbd",
        "outputId": "de3d4818-f6c9-4925-b72a-d94a591070e8"
      },
      "outputs": [
        {
          "data": {
            "text/plain": [
              "['logistic_regression_model.pkl']"
            ]
          },
          "execution_count": 17,
          "metadata": {},
          "output_type": "execute_result"
        }
      ],
      "source": [
        "import joblib\n",
        "\n",
        "joblib.dump(log_reg_cv.best_estimator_, 'logistic_regression_model.pkl')"
      ]
    },
    {
      "cell_type": "markdown",
      "metadata": {
        "id": "oEB_M2oOjH5K"
      },
      "source": [
        "## **Random Forest**"
      ]
    },
    {
      "cell_type": "markdown",
      "metadata": {
        "id": "Tej0hNNUjtPn"
      },
      "source": [
        "### Train **RandomForest** with different hyperparameters"
      ]
    },
    {
      "cell_type": "markdown",
      "metadata": {
        "id": "WyiCpDO6jvlx"
      },
      "source": [
        "#### What numbers of estimators performs better?\n"
      ]
    },
    {
      "cell_type": "code",
      "execution_count": 19,
      "metadata": {
        "colab": {
          "base_uri": "https://localhost:8080/"
        },
        "id": "V-w7aD0_jnCe",
        "outputId": "9c8fd168-1934-4a19-f870-148cec689bd6"
      },
      "outputs": [
        {
          "name": "stdout",
          "output_type": "stream",
          "text": [
            "RandomForest Classification Report with n_estimators=1\n",
            "              precision    recall  f1-score   support\n",
            "\n",
            "           0       0.99      0.96      0.98        85\n",
            "           1       0.93      0.98      0.95        41\n",
            "\n",
            "    accuracy                           0.97       126\n",
            "   macro avg       0.96      0.97      0.96       126\n",
            "weighted avg       0.97      0.97      0.97       126\n",
            "\n",
            "RandomForest Classification Report with n_estimators=2\n",
            "              precision    recall  f1-score   support\n",
            "\n",
            "           0       0.91      1.00      0.96        85\n",
            "           1       1.00      0.80      0.89        41\n",
            "\n",
            "    accuracy                           0.94       126\n",
            "   macro avg       0.96      0.90      0.92       126\n",
            "weighted avg       0.94      0.94      0.93       126\n",
            "\n",
            "RandomForest Classification Report with n_estimators=3\n",
            "              precision    recall  f1-score   support\n",
            "\n",
            "           0       0.97      1.00      0.98        85\n",
            "           1       1.00      0.93      0.96        41\n",
            "\n",
            "    accuracy                           0.98       126\n",
            "   macro avg       0.98      0.96      0.97       126\n",
            "weighted avg       0.98      0.98      0.98       126\n",
            "\n",
            "RandomForest Classification Report with n_estimators=5\n",
            "              precision    recall  f1-score   support\n",
            "\n",
            "           0       1.00      1.00      1.00        85\n",
            "           1       1.00      1.00      1.00        41\n",
            "\n",
            "    accuracy                           1.00       126\n",
            "   macro avg       1.00      1.00      1.00       126\n",
            "weighted avg       1.00      1.00      1.00       126\n",
            "\n",
            "RandomForest Classification Report with n_estimators=7\n",
            "              precision    recall  f1-score   support\n",
            "\n",
            "           0       1.00      1.00      1.00        85\n",
            "           1       1.00      1.00      1.00        41\n",
            "\n",
            "    accuracy                           1.00       126\n",
            "   macro avg       1.00      1.00      1.00       126\n",
            "weighted avg       1.00      1.00      1.00       126\n",
            "\n",
            "RandomForest Classification Report with n_estimators=10\n",
            "              precision    recall  f1-score   support\n",
            "\n",
            "           0       1.00      1.00      1.00        85\n",
            "           1       1.00      1.00      1.00        41\n",
            "\n",
            "    accuracy                           1.00       126\n",
            "   macro avg       1.00      1.00      1.00       126\n",
            "weighted avg       1.00      1.00      1.00       126\n",
            "\n"
          ]
        }
      ],
      "source": [
        "from sklearn.ensemble import RandomForestClassifier\n",
        "\n",
        "for n_estimators in [1, 2, 3, 5, 7, 10]:\n",
        "    random_forest_model = RandomForestClassifier(n_estimators=n_estimators, max_depth=20)\n",
        "    random_forest_model.fit(X_train, y_train)\n",
        "    rf_predictions = random_forest_model.predict(X_test)\n",
        "\n",
        "    # Evaluate the model\n",
        "    print(f\"RandomForest Classification Report with n_estimators={n_estimators}\")\n",
        "    print(classification_report(y_test, rf_predictions))"
      ]
    },
    {
      "cell_type": "markdown",
      "metadata": {
        "id": "cwqvFKvOlJMK"
      },
      "source": [
        "#### What max depth is more optimal?"
      ]
    },
    {
      "cell_type": "code",
      "execution_count": 23,
      "metadata": {
        "colab": {
          "base_uri": "https://localhost:8080/"
        },
        "id": "yaqjPuF2lKZ5",
        "outputId": "7890e0a5-8a08-4403-b38e-5eedecc6fc8c"
      },
      "outputs": [
        {
          "name": "stdout",
          "output_type": "stream",
          "text": [
            "RandomForest Classification Report with max_depth=2\n",
            "              precision    recall  f1-score   support\n",
            "\n",
            "           0       1.00      1.00      1.00        85\n",
            "           1       1.00      1.00      1.00        41\n",
            "\n",
            "    accuracy                           1.00       126\n",
            "   macro avg       1.00      1.00      1.00       126\n",
            "weighted avg       1.00      1.00      1.00       126\n",
            "\n",
            "RandomForest Classification Report with max_depth=3\n",
            "              precision    recall  f1-score   support\n",
            "\n",
            "           0       1.00      0.99      0.99        85\n",
            "           1       0.98      1.00      0.99        41\n",
            "\n",
            "    accuracy                           0.99       126\n",
            "   macro avg       0.99      0.99      0.99       126\n",
            "weighted avg       0.99      0.99      0.99       126\n",
            "\n",
            "RandomForest Classification Report with max_depth=5\n",
            "              precision    recall  f1-score   support\n",
            "\n",
            "           0       1.00      1.00      1.00        85\n",
            "           1       1.00      1.00      1.00        41\n",
            "\n",
            "    accuracy                           1.00       126\n",
            "   macro avg       1.00      1.00      1.00       126\n",
            "weighted avg       1.00      1.00      1.00       126\n",
            "\n",
            "RandomForest Classification Report with max_depth=10\n",
            "              precision    recall  f1-score   support\n",
            "\n",
            "           0       1.00      1.00      1.00        85\n",
            "           1       1.00      1.00      1.00        41\n",
            "\n",
            "    accuracy                           1.00       126\n",
            "   macro avg       1.00      1.00      1.00       126\n",
            "weighted avg       1.00      1.00      1.00       126\n",
            "\n",
            "RandomForest Classification Report with max_depth=20\n",
            "              precision    recall  f1-score   support\n",
            "\n",
            "           0       1.00      1.00      1.00        85\n",
            "           1       1.00      1.00      1.00        41\n",
            "\n",
            "    accuracy                           1.00       126\n",
            "   macro avg       1.00      1.00      1.00       126\n",
            "weighted avg       1.00      1.00      1.00       126\n",
            "\n"
          ]
        }
      ],
      "source": [
        "from sklearn.ensemble import RandomForestClassifier\n",
        "\n",
        "for max_depth in [2, 3, 5, 10, 20]:\n",
        "    random_forest_model = RandomForestClassifier(n_estimators=5, max_depth=max_depth)\n",
        "    random_forest_model.fit(X_train, y_train)\n",
        "    rf_predictions = random_forest_model.predict(X_test)\n",
        "\n",
        "    # Evaluate the model\n",
        "    print(f\"RandomForest Classification Report with max_depth={max_depth}\")\n",
        "    print(classification_report(y_test, rf_predictions))"
      ]
    },
    {
      "cell_type": "markdown",
      "metadata": {
        "id": "hUB8w3zCm531"
      },
      "source": [
        "#### What the `min_samples_split` is the best?"
      ]
    },
    {
      "cell_type": "code",
      "execution_count": 30,
      "metadata": {
        "colab": {
          "base_uri": "https://localhost:8080/"
        },
        "id": "2jHGL5Gjm9WP",
        "outputId": "a32f6cb2-e1a7-4afd-979b-2f5cfd7c90fc"
      },
      "outputs": [
        {
          "name": "stdout",
          "output_type": "stream",
          "text": [
            "RandomForest Classification Report with min_samples_split=2\n",
            "              precision    recall  f1-score   support\n",
            "\n",
            "           0       0.99      0.98      0.98        85\n",
            "           1       0.95      0.98      0.96        41\n",
            "\n",
            "    accuracy                           0.98       126\n",
            "   macro avg       0.97      0.98      0.97       126\n",
            "weighted avg       0.98      0.98      0.98       126\n",
            "\n",
            "RandomForest Classification Report with min_samples_split=3\n",
            "              precision    recall  f1-score   support\n",
            "\n",
            "           0       1.00      1.00      1.00        85\n",
            "           1       1.00      1.00      1.00        41\n",
            "\n",
            "    accuracy                           1.00       126\n",
            "   macro avg       1.00      1.00      1.00       126\n",
            "weighted avg       1.00      1.00      1.00       126\n",
            "\n",
            "RandomForest Classification Report with min_samples_split=4\n",
            "              precision    recall  f1-score   support\n",
            "\n",
            "           0       1.00      1.00      1.00        85\n",
            "           1       1.00      1.00      1.00        41\n",
            "\n",
            "    accuracy                           1.00       126\n",
            "   macro avg       1.00      1.00      1.00       126\n",
            "weighted avg       1.00      1.00      1.00       126\n",
            "\n",
            "RandomForest Classification Report with min_samples_split=5\n",
            "              precision    recall  f1-score   support\n",
            "\n",
            "           0       1.00      1.00      1.00        85\n",
            "           1       1.00      1.00      1.00        41\n",
            "\n",
            "    accuracy                           1.00       126\n",
            "   macro avg       1.00      1.00      1.00       126\n",
            "weighted avg       1.00      1.00      1.00       126\n",
            "\n",
            "RandomForest Classification Report with min_samples_split=7\n",
            "              precision    recall  f1-score   support\n",
            "\n",
            "           0       1.00      1.00      1.00        85\n",
            "           1       1.00      1.00      1.00        41\n",
            "\n",
            "    accuracy                           1.00       126\n",
            "   macro avg       1.00      1.00      1.00       126\n",
            "weighted avg       1.00      1.00      1.00       126\n",
            "\n",
            "RandomForest Classification Report with min_samples_split=10\n",
            "              precision    recall  f1-score   support\n",
            "\n",
            "           0       1.00      1.00      1.00        85\n",
            "           1       1.00      1.00      1.00        41\n",
            "\n",
            "    accuracy                           1.00       126\n",
            "   macro avg       1.00      1.00      1.00       126\n",
            "weighted avg       1.00      1.00      1.00       126\n",
            "\n"
          ]
        }
      ],
      "source": [
        "from sklearn.ensemble import RandomForestClassifier\n",
        "\n",
        "for min_samples_split in [2, 3, 4, 5, 7, 10]:\n",
        "    random_forest_model = RandomForestClassifier(n_estimators=5, max_depth=5, min_samples_split=min_samples_split)\n",
        "    random_forest_model.fit(X_train, y_train)\n",
        "    rf_predictions = random_forest_model.predict(X_test)\n",
        "\n",
        "    # Evaluate the model\n",
        "    print(f\"RandomForest Classification Report with min_samples_split={min_samples_split}\")\n",
        "    print(classification_report(y_test, rf_predictions))"
      ]
    },
    {
      "cell_type": "markdown",
      "metadata": {
        "id": "GBrP9ReimzEL"
      },
      "source": [
        "### Find the best parameters and get the best model with **GridSearchCV**"
      ]
    },
    {
      "cell_type": "code",
      "execution_count": 31,
      "metadata": {
        "colab": {
          "base_uri": "https://localhost:8080/",
          "height": 755
        },
        "id": "JrEccf2bm0O8",
        "outputId": "7739312b-49e2-4e47-ce42-b235cc9b60e3"
      },
      "outputs": [
        {
          "name": "stdout",
          "output_type": "stream",
          "text": [
            "Best parameters for RandomForest: {'max_depth': 5, 'min_samples_split': 3, 'n_estimators': 7}\n",
            "Best score: 1.0\n",
            "              precision    recall  f1-score   support\n",
            "\n",
            "           0       1.00      1.00      1.00        85\n",
            "           1       1.00      1.00      1.00        41\n",
            "\n",
            "    accuracy                           1.00       126\n",
            "   macro avg       1.00      1.00      1.00       126\n",
            "weighted avg       1.00      1.00      1.00       126\n",
            "\n"
          ]
        },
        {
          "data": {
            "image/png": "[encoded data removed]",
            "text/plain": [
              "<Figure size 800x600 with 2 Axes>"
            ]
          },
          "metadata": {},
          "output_type": "display_data"
        }
      ],
      "source": [
        "from sklearn.ensemble import RandomForestClassifier\n",
        "from sklearn.metrics import confusion_matrix\n",
        "import matplotlib.pyplot as plt\n",
        "import seaborn as sns\n",
        "\n",
        "# Hyperparameter grid\n",
        "rf_params = {\n",
        "    'n_estimators': [5, 7, 10],\n",
        "    'max_depth': [5, 7, 10, 15],\n",
        "    'min_samples_split': [3, 4, 5, 7, 10]\n",
        "}\n",
        "\n",
        "# Model instance\n",
        "random_forest = RandomForestClassifier()\n",
        "\n",
        "# Grid search\n",
        "rf_cv = GridSearchCV(random_forest, rf_params, cv=5, scoring='f1')\n",
        "rf_cv.fit(X_train, y_train)\n",
        "\n",
        "# Best parameters and score\n",
        "print(\"Best parameters for RandomForest:\", rf_cv.best_params_)\n",
        "print(\"Best score:\", rf_cv.best_score_)\n",
        "\n",
        "rf_predictions = rf_cv.best_estimator_.predict(X_test)\n",
        "\n",
        "print(classification_report(y_test, rf_predictions))\n",
        "\n",
        "cm = confusion_matrix(y_test, rf_predictions)\n",
        "plt.figure(figsize=(8,6))\n",
        "sns.heatmap(cm, annot=True, fmt='d', cmap='Blues', xticklabels=['Predicted 0', 'Predicted 1'], yticklabels=['Actual 0', 'Actual 1'])\n",
        "plt.ylabel('Actual')\n",
        "plt.xlabel('Predicted')\n",
        "plt.title(f'Confusion Matrix for Random Forest')\n",
        "plt.show()"
      ]
    },
    {
      "cell_type": "markdown",
      "metadata": {
        "id": "Fi0r5EsNn9JR"
      },
      "source": [
        "### Save the best **Random Forest** model"
      ]
    },
    {
      "cell_type": "code",
      "execution_count": 32,
      "metadata": {
        "colab": {
          "base_uri": "https://localhost:8080/"
        },
        "id": "nA39oro-oP5f",
        "outputId": "f53b5ab3-ffab-4021-b070-0af3eb622341"
      },
      "outputs": [
        {
          "data": {
            "text/plain": [
              "['random_forest_model.pkl']"
            ]
          },
          "execution_count": 32,
          "metadata": {},
          "output_type": "execute_result"
        }
      ],
      "source": [
        "import joblib\n",
        "\n",
        "joblib.dump(rf_cv.best_estimator_, 'random_forest_model.pkl')"
      ]
    },
    {
      "cell_type": "markdown",
      "metadata": {
        "id": "5SuMA4ZJoh2k"
      },
      "source": [
        "## **XGBoost**"
      ]
    },
    {
      "cell_type": "markdown",
      "metadata": {
        "id": "1C6i2bVjpEFk"
      },
      "source": [
        "### Train **XGBoost** with different hyperparameters"
      ]
    },
    {
      "cell_type": "markdown",
      "metadata": {
        "id": "exHQxnR0pNh5"
      },
      "source": [
        "#### What the numbers of estimators performs better?"
      ]
    },
    {
      "cell_type": "code",
      "execution_count": 34,
      "metadata": {
        "colab": {
          "base_uri": "https://localhost:8080/"
        },
        "id": "Bj384E86okNP",
        "outputId": "7dd23752-b82f-4b63-978a-189033fc158a"
      },
      "outputs": [
        {
          "name": "stdout",
          "output_type": "stream",
          "text": [
            "XGBoost Classification Report with n_estimators=1\n",
            "              precision    recall  f1-score   support\n",
            "\n",
            "           0       1.00      1.00      1.00        85\n",
            "           1       1.00      1.00      1.00        41\n",
            "\n",
            "    accuracy                           1.00       126\n",
            "   macro avg       1.00      1.00      1.00       126\n",
            "weighted avg       1.00      1.00      1.00       126\n",
            "\n",
            "XGBoost Classification Report with n_estimators=2\n",
            "              precision    recall  f1-score   support\n",
            "\n",
            "           0       1.00      1.00      1.00        85\n",
            "           1       1.00      1.00      1.00        41\n",
            "\n",
            "    accuracy                           1.00       126\n",
            "   macro avg       1.00      1.00      1.00       126\n",
            "weighted avg       1.00      1.00      1.00       126\n",
            "\n",
            "XGBoost Classification Report with n_estimators=3\n",
            "              precision    recall  f1-score   support\n",
            "\n",
            "           0       1.00      1.00      1.00        85\n",
            "           1       1.00      1.00      1.00        41\n",
            "\n",
            "    accuracy                           1.00       126\n",
            "   macro avg       1.00      1.00      1.00       126\n",
            "weighted avg       1.00      1.00      1.00       126\n",
            "\n",
            "XGBoost Classification Report with n_estimators=5\n",
            "              precision    recall  f1-score   support\n",
            "\n",
            "           0       1.00      1.00      1.00        85\n",
            "           1       1.00      1.00      1.00        41\n",
            "\n",
            "    accuracy                           1.00       126\n",
            "   macro avg       1.00      1.00      1.00       126\n",
            "weighted avg       1.00      1.00      1.00       126\n",
            "\n",
            "XGBoost Classification Report with n_estimators=7\n",
            "              precision    recall  f1-score   support\n",
            "\n",
            "           0       1.00      1.00      1.00        85\n",
            "           1       1.00      1.00      1.00        41\n",
            "\n",
            "    accuracy                           1.00       126\n",
            "   macro avg       1.00      1.00      1.00       126\n",
            "weighted avg       1.00      1.00      1.00       126\n",
            "\n",
            "XGBoost Classification Report with n_estimators=10\n",
            "              precision    recall  f1-score   support\n",
            "\n",
            "           0       1.00      1.00      1.00        85\n",
            "           1       1.00      1.00      1.00        41\n",
            "\n",
            "    accuracy                           1.00       126\n",
            "   macro avg       1.00      1.00      1.00       126\n",
            "weighted avg       1.00      1.00      1.00       126\n",
            "\n"
          ]
        }
      ],
      "source": [
        "for n_estimators in [1, 2, 3, 5, 7, 10]:\n",
        "    # Create XGBoost model with specified hyperparameters\n",
        "    xgboost_model = xgb.XGBClassifier(n_estimators=n_estimators)\n",
        "    xgboost_model.fit(X_train, y_train)\n",
        "    xgb_predictions = xgboost_model.predict(X_test)\n",
        "\n",
        "    # Evaluate the model\n",
        "    print(f\"XGBoost Classification Report with n_estimators={n_estimators}\")\n",
        "    print(classification_report(y_test, xgb_predictions))"
      ]
    },
    {
      "cell_type": "markdown",
      "metadata": {
        "id": "N3giU9lMqI9Z"
      },
      "source": [
        "#### What max depth is more optimal?"
      ]
    },
    {
      "cell_type": "code",
      "execution_count": 35,
      "metadata": {
        "colab": {
          "base_uri": "https://localhost:8080/"
        },
        "id": "NrlTpSRGqPcr",
        "outputId": "16ee6680-a299-4e41-af2e-6519a979ad9c"
      },
      "outputs": [
        {
          "name": "stdout",
          "output_type": "stream",
          "text": [
            "XGBoost Classification Report with max_depth=1\n",
            "              precision    recall  f1-score   support\n",
            "\n",
            "           0       1.00      1.00      1.00        85\n",
            "           1       1.00      1.00      1.00        41\n",
            "\n",
            "    accuracy                           1.00       126\n",
            "   macro avg       1.00      1.00      1.00       126\n",
            "weighted avg       1.00      1.00      1.00       126\n",
            "\n",
            "XGBoost Classification Report with max_depth=2\n",
            "              precision    recall  f1-score   support\n",
            "\n",
            "           0       1.00      1.00      1.00        85\n",
            "           1       1.00      1.00      1.00        41\n",
            "\n",
            "    accuracy                           1.00       126\n",
            "   macro avg       1.00      1.00      1.00       126\n",
            "weighted avg       1.00      1.00      1.00       126\n",
            "\n",
            "XGBoost Classification Report with max_depth=3\n",
            "              precision    recall  f1-score   support\n",
            "\n",
            "           0       1.00      1.00      1.00        85\n",
            "           1       1.00      1.00      1.00        41\n",
            "\n",
            "    accuracy                           1.00       126\n",
            "   macro avg       1.00      1.00      1.00       126\n",
            "weighted avg       1.00      1.00      1.00       126\n",
            "\n",
            "XGBoost Classification Report with max_depth=5\n",
            "              precision    recall  f1-score   support\n",
            "\n",
            "           0       1.00      1.00      1.00        85\n",
            "           1       1.00      1.00      1.00        41\n",
            "\n",
            "    accuracy                           1.00       126\n",
            "   macro avg       1.00      1.00      1.00       126\n",
            "weighted avg       1.00      1.00      1.00       126\n",
            "\n",
            "XGBoost Classification Report with max_depth=7\n",
            "              precision    recall  f1-score   support\n",
            "\n",
            "           0       1.00      1.00      1.00        85\n",
            "           1       1.00      1.00      1.00        41\n",
            "\n",
            "    accuracy                           1.00       126\n",
            "   macro avg       1.00      1.00      1.00       126\n",
            "weighted avg       1.00      1.00      1.00       126\n",
            "\n",
            "XGBoost Classification Report with max_depth=10\n",
            "              precision    recall  f1-score   support\n",
            "\n",
            "           0       1.00      1.00      1.00        85\n",
            "           1       1.00      1.00      1.00        41\n",
            "\n",
            "    accuracy                           1.00       126\n",
            "   macro avg       1.00      1.00      1.00       126\n",
            "weighted avg       1.00      1.00      1.00       126\n",
            "\n",
            "XGBoost Classification Report with max_depth=20\n",
            "              precision    recall  f1-score   support\n",
            "\n",
            "           0       1.00      1.00      1.00        85\n",
            "           1       1.00      1.00      1.00        41\n",
            "\n",
            "    accuracy                           1.00       126\n",
            "   macro avg       1.00      1.00      1.00       126\n",
            "weighted avg       1.00      1.00      1.00       126\n",
            "\n"
          ]
        }
      ],
      "source": [
        "for max_depth in [1, 2, 3, 5, 7, 10, 20]:\n",
        "    # Create XGBoost model with specified hyperparameters\n",
        "    xgboost_model = xgb.XGBClassifier(n_estimators=1, max_depth=max_depth)\n",
        "    xgboost_model.fit(X_train, y_train)\n",
        "    xgb_predictions = xgboost_model.predict(X_test)\n",
        "\n",
        "    # Evaluate the model\n",
        "    print(f\"XGBoost Classification Report with max_depth={max_depth}\")\n",
        "    print(classification_report(y_test, xgb_predictions))"
      ]
    },
    {
      "cell_type": "markdown",
      "metadata": {
        "id": "ZidXRhQSqgYD"
      },
      "source": [
        "#### What the learning rate is the best?"
      ]
    },
    {
      "cell_type": "code",
      "execution_count": 36,
      "metadata": {
        "colab": {
          "base_uri": "https://localhost:8080/"
        },
        "id": "mcfiLK6HqlJY",
        "outputId": "1c1ba62b-25ae-4792-e7c4-c25fe3f31bb9"
      },
      "outputs": [
        {
          "name": "stdout",
          "output_type": "stream",
          "text": [
            "XGBoost Classification Report with learning_rate=0.001\n",
            "              precision    recall  f1-score   support\n",
            "\n",
            "           0       0.67      1.00      0.81        85\n",
            "           1       0.00      0.00      0.00        41\n",
            "\n",
            "    accuracy                           0.67       126\n",
            "   macro avg       0.34      0.50      0.40       126\n",
            "weighted avg       0.46      0.67      0.54       126\n",
            "\n",
            "XGBoost Classification Report with learning_rate=0.01\n",
            "              precision    recall  f1-score   support\n",
            "\n",
            "           0       0.67      1.00      0.81        85\n",
            "           1       0.00      0.00      0.00        41\n",
            "\n",
            "    accuracy                           0.67       126\n",
            "   macro avg       0.34      0.50      0.40       126\n",
            "weighted avg       0.46      0.67      0.54       126\n",
            "\n",
            "XGBoost Classification Report with learning_rate=0.03\n",
            "              precision    recall  f1-score   support\n",
            "\n",
            "           0       0.67      1.00      0.81        85\n",
            "           1       0.00      0.00      0.00        41\n",
            "\n",
            "    accuracy                           0.67       126\n",
            "   macro avg       0.34      0.50      0.40       126\n",
            "weighted avg       0.46      0.67      0.54       126\n",
            "\n",
            "XGBoost Classification Report with learning_rate=0.1\n",
            "              precision    recall  f1-score   support\n",
            "\n",
            "           0       0.67      1.00      0.81        85\n",
            "           1       0.00      0.00      0.00        41\n",
            "\n",
            "    accuracy                           0.67       126\n",
            "   macro avg       0.34      0.50      0.40       126\n",
            "weighted avg       0.46      0.67      0.54       126\n",
            "\n",
            "XGBoost Classification Report with learning_rate=0.3\n",
            "              precision    recall  f1-score   support\n",
            "\n",
            "           0       1.00      1.00      1.00        85\n",
            "           1       1.00      1.00      1.00        41\n",
            "\n",
            "    accuracy                           1.00       126\n",
            "   macro avg       1.00      1.00      1.00       126\n",
            "weighted avg       1.00      1.00      1.00       126\n",
            "\n",
            "XGBoost Classification Report with learning_rate=1\n",
            "              precision    recall  f1-score   support\n",
            "\n",
            "           0       1.00      1.00      1.00        85\n",
            "           1       1.00      1.00      1.00        41\n",
            "\n",
            "    accuracy                           1.00       126\n",
            "   macro avg       1.00      1.00      1.00       126\n",
            "weighted avg       1.00      1.00      1.00       126\n",
            "\n"
          ]
        }
      ],
      "source": [
        "for learning_rate in [0.001, 0.01, 0.03, 0.1, 0.3, 1]:\n",
        "    # Create XGBoost model with specified hyperparameters\n",
        "    xgboost_model = xgb.XGBClassifier(n_estimators=1, max_depth=1, learning_rate=learning_rate)\n",
        "    xgboost_model.fit(X_train, y_train)\n",
        "    xgb_predictions = xgboost_model.predict(X_test)\n",
        "\n",
        "    # Evaluate the model\n",
        "    print(f\"XGBoost Classification Report with learning_rate={learning_rate}\")\n",
        "    print(classification_report(y_test, xgb_predictions))"
      ]
    },
    {
      "cell_type": "markdown",
      "metadata": {
        "id": "5RcmnCKhrAf9"
      },
      "source": [
        "### Find the best parameters and get the best model with **GridSearchCV**"
      ]
    },
    {
      "cell_type": "code",
      "execution_count": 37,
      "metadata": {
        "colab": {
          "base_uri": "https://localhost:8080/",
          "height": 755
        },
        "id": "OqROWissrxCL",
        "outputId": "0d27f3a5-4df1-4714-a400-dfa6b2b40676"
      },
      "outputs": [
        {
          "name": "stdout",
          "output_type": "stream",
          "text": [
            "Best parameters for XGBoost: {'learning_rate': 0.3, 'max_depth': 1, 'n_estimators': 1}\n",
            "Best score: 1.0\n",
            "              precision    recall  f1-score   support\n",
            "\n",
            "           0       1.00      1.00      1.00        85\n",
            "           1       1.00      1.00      1.00        41\n",
            "\n",
            "    accuracy                           1.00       126\n",
            "   macro avg       1.00      1.00      1.00       126\n",
            "weighted avg       1.00      1.00      1.00       126\n",
            "\n"
          ]
        },
        {
          "data": {
            "image/png": "[encoded data removed]",
            "text/plain": [
              "<Figure size 800x600 with 2 Axes>"
            ]
          },
          "metadata": {},
          "output_type": "display_data"
        }
      ],
      "source": [
        "import xgboost as xgb\n",
        "\n",
        "# Hyperparameter grid\n",
        "xgb_params = {\n",
        "    'n_estimators': [1, 2, 3],\n",
        "    'learning_rate': [0.3, 0.5, 0.7, 1.0],\n",
        "    'max_depth': [1, 2, 3]\n",
        "}\n",
        "\n",
        "# Model instance\n",
        "xgboost = xgb.XGBClassifier(use_label_encoder=False, eval_metric='logloss')\n",
        "\n",
        "# Grid search\n",
        "xgb_cv = GridSearchCV(xgboost, xgb_params, cv=5, scoring='f1')\n",
        "xgb_cv.fit(X_train, y_train)\n",
        "\n",
        "# Best parameters and score\n",
        "print(\"Best parameters for XGBoost:\", xgb_cv.best_params_)\n",
        "print(\"Best score:\", xgb_cv.best_score_)\n",
        "\n",
        "xgb_predictions = xgb_cv.best_estimator_.predict(X_test)\n",
        "\n",
        "print(classification_report(y_test, xgb_predictions))\n",
        "\n",
        "cm = confusion_matrix(y_test, xgb_predictions)\n",
        "plt.figure(figsize=(8,6))\n",
        "sns.heatmap(cm, annot=True, fmt='d', cmap='Blues', xticklabels=['Predicted 0', 'Predicted 1'], yticklabels=['Actual 0', 'Actual 1'])\n",
        "plt.ylabel('Actual')\n",
        "plt.xlabel('Predicted')\n",
        "plt.title(f'Confusion Matrix for Random Forest')\n",
        "plt.show()"
      ]
    },
    {
      "cell_type": "markdown",
      "metadata": {
        "id": "N6CX-LKAsk6q"
      },
      "source": [
        "### Save the best **XGBoost** model"
      ]
    },
    {
      "cell_type": "code",
      "execution_count": 38,
      "metadata": {
        "id": "mOtOcLe2slO4"
      },
      "outputs": [],
      "source": [
        "xgb_cv.best_estimator_.save_model('xgboost_model.bin')"
      ]
    }
  ],
  "metadata": {
    "colab": {
      "provenance": []
    },
    "kernelspec": {
      "display_name": "Python 3",
      "name": "python3"
    },
    "language_info": {
      "name": "python",
      "version": "3.10.13"
    }
  },
  "nbformat": 4,
  "nbformat_minor": 0
}
